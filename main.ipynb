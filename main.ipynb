{
 "cells": [
  {
   "cell_type": "markdown",
   "metadata": {},
   "source": [
    "# Introdução\n",
    "\n",
    "Este projeto tem como objetivo coletar, armazenar e analisar dados históricos de condições climáticas provenientes de diferentes cidades. Utilizando uma base de dados extraída da **HG Brasil** e salva em banco usando **MongoDB**, a aplicação deverá realizar testes com diferentes algoritmos de *machine learning* para registrar seus resultados e permitir uma comparação de eficiência. Os dados coletados incluem temperatura, umidade, descrição do clima, velocidade do vento, entre outros parâmetros relevantes para estudos meteorológicos e análises estatísticas. \n",
    "\n",
    "### Inicialização\n",
    "\n",
    "Para carregar os módulos necessários, execute a célula abaixo para iniciar as bibliotecas usadas para o funcionamento do projeto."
   ]
  },
  {
   "cell_type": "code",
   "execution_count": null,
   "metadata": {},
   "outputs": [],
   "source": [
    "import json\n",
    "\n",
    "from src.db_config import get_data\n",
    "from src.config import BACKUP_DB, BACKUP_DIR, DB_TABLE_WEATHER"
   ]
  },
  {
   "cell_type": "markdown",
   "metadata": {},
   "source": [
    "*A base usada durante o treinamento será carregada na célula abaixo, precisando ser inicializada antes de executar os demais pontos.*"
   ]
  },
  {
   "cell_type": "code",
   "execution_count": null,
   "metadata": {},
   "outputs": [],
   "source": [
    "data = get_data(DB_TABLE_WEATHER)"
   ]
  },
  {
   "cell_type": "markdown",
   "metadata": {},
   "source": [
    "*O bloco abaixo permite a validação parcial dos dados, podendo ser usado para garantir que os dados estão sendo salvos corretamente.*"
   ]
  },
  {
   "cell_type": "code",
   "execution_count": null,
   "metadata": {},
   "outputs": [],
   "source": [
    "for item in [a for a in data if a[\"results\"][\"date\"] == \"01/06/2025\"]:\n",
    "    print(f\"{item[\"results\"][\"city\"]} - {item[\"results\"][\"date\"]} {item[\"results\"][\"time\"]}: {item[\"results\"][\"temp\"]}C° ({item[\"results\"][\"description\"]})\")"
   ]
  },
  {
   "cell_type": "markdown",
   "metadata": {},
   "source": [
    "## Backup\n",
    "\n",
    "Caso seja necessário realizar um backup das informações salvas em arquivos JSON poderá ser executado o comando a seguir, porém garantindo que as informações abaixo estão corretas no *.env*.\n",
    "- **BACKUP_DB** - Ajustar a variável para permitir a cópia\n",
    "- **BACKUP_DIR** - Incluir um diretório válido"
   ]
  },
  {
   "cell_type": "code",
   "execution_count": null,
   "metadata": {},
   "outputs": [],
   "source": [
    "if BACKUP_DB:\n",
    "   for item in data:\n",
    "      with open(f\"{BACKUP_DIR}/{item[\"_id\"]}.json\", \"w\") as arquivo:\n",
    "         del item[\"_id\"]\n",
    "\n",
    "         json.dump(item, arquivo)"
   ]
  }
 ],
 "metadata": {
  "kernelspec": {
   "display_name": "Python 3",
   "language": "python",
   "name": "python3"
  },
  "language_info": {
   "codemirror_mode": {
    "name": "ipython",
    "version": 3
   },
   "file_extension": ".py",
   "mimetype": "text/x-python",
   "name": "python",
   "nbconvert_exporter": "python",
   "pygments_lexer": "ipython3",
   "version": "3.12.2"
  }
 },
 "nbformat": 4,
 "nbformat_minor": 4
}
